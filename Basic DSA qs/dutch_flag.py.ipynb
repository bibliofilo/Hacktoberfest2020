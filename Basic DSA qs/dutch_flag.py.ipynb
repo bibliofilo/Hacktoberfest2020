{
 "cells": [
  {
   "cell_type": "code",
   "execution_count": 92,
   "metadata": {},
   "outputs": [
    {
     "name": "stdout",
     "output_type": "stream",
     "text": [
      "[0, 0, 0, 0, 0, 1, 1, 1, 1, 1, 2, 2]\n"
     ]
    }
   ],
   "source": [
    "def sortDutch(arr): \n",
    "    # Function to sort the array of 0s, 1s and 2s \n",
    "\n",
    "    # Calculate array length\n",
    "    n = len(arr)\n",
    "\n",
    "    # Count each array element\n",
    "    count_0 = arr.count(0)\n",
    "    \n",
    "    count_1 = arr.count(1)\n",
    "    \n",
    "    count_2 = arr.count(2)\n",
    "    \n",
    "    for i in range(n):\n",
    "        # The For loop uses the counts as ranges to replace\n",
    "        # array elements\n",
    "        \n",
    "        # Replaces initial list elements with 0's\n",
    "        if i < count_0:\n",
    "            arr[i] = 0\n",
    "\n",
    "        # Then with 1's\n",
    "        elif i >= count_0 and i < count_0 + count_1:\n",
    "            arr[i] = 1\n",
    "\n",
    "        # Then with 2's\n",
    "        elif i >= n - count_2:\n",
    "            arr[i] = 2\n",
    "    \n",
    "    print(arr)\n",
    "\n",
    "arr = [0, 1, 1, 0, 1, 2, 1, 2, 0, 0, 0, 1] \n",
    "  \n",
    "sortDutch(arr) "
   ]
  }
 ],
 "metadata": {
  "kernelspec": {
   "display_name": "Python 3",
   "language": "python",
   "name": "python3"
  },
  "language_info": {
   "codemirror_mode": {
    "name": "ipython",
    "version": 3
   },
   "file_extension": ".py",
   "mimetype": "text/x-python",
   "name": "python",
   "nbconvert_exporter": "python",
   "pygments_lexer": "ipython3",
   "version": "3.7.4"
  }
 },
 "nbformat": 4,
 "nbformat_minor": 2
}
